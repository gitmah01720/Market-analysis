{
 "cells": [
  {
   "cell_type": "markdown",
   "metadata": {
    "collapsed": true
   },
   "source": [
    "# Finding Best Market for Adv.\n",
    "\n",
    "In this project i will try to find best market for advertisement of a Ed-Tech company which offers cources on programming skills.\n",
    "\n",
    "**Tentative Timeline:**\n",
    "1. \n",
    "2. \n",
    "\n"
   ]
  },
  {
   "cell_type": "code",
   "execution_count": 1,
   "metadata": {
    "collapsed": false
   },
   "outputs": [],
   "source": [
    "import pandas as pd\n",
    "import matplotlib.pyplot as plt\n",
    "import numpy as np\n",
    "%matplotlib inline \n"
   ]
  },
  {
   "cell_type": "code",
   "execution_count": 2,
   "metadata": {
    "collapsed": false
   },
   "outputs": [],
   "source": [
    "fcc = pd.read_csv('2017-fCC-New-Coders-Survey-Data.csv',low_memory=0)\n"
   ]
  },
  {
   "cell_type": "code",
   "execution_count": 3,
   "metadata": {
    "collapsed": true
   },
   "outputs": [],
   "source": [
    " def explore_data(dataset, hed=False):\n",
    "        pd.options.display.max_columns = 150 # to avoid truncated output \n",
    "        if(hed):\n",
    "            dataset.head()\n",
    "        print(\"\\ncount of missing values for each column\\n\")\n",
    "        ser = dataset[dataset.isnull()].sum()\n",
    "        print(ser[ser>0])\n",
    "        dataset.info()\n",
    "            \n"
   ]
  },
  {
   "cell_type": "code",
   "execution_count": 4,
   "metadata": {
    "collapsed": false
   },
   "outputs": [
    {
     "name": "stdout",
     "output_type": "stream",
     "text": [
      "\n",
      "count of missing values for each column\n",
      "\n",
      "Series([], dtype: float64)\n",
      "<class 'pandas.core.frame.DataFrame'>\n",
      "RangeIndex: 18175 entries, 0 to 18174\n",
      "Columns: 136 entries, Age to YouTubeTheNewBoston\n",
      "dtypes: float64(105), object(31)\n",
      "memory usage: 18.9+ MB\n"
     ]
    }
   ],
   "source": [
    "explore_data(fcc,True)\n"
   ]
  },
  {
   "cell_type": "code",
   "execution_count": 5,
   "metadata": {
    "collapsed": true
   },
   "outputs": [],
   "source": [
    "# type(fcc.info())\n",
    "# pd.options.display.max_columns = 150 # to avoid truncated output \n",
    "# fcc.head()"
   ]
  },
  {
   "cell_type": "code",
   "execution_count": 6,
   "metadata": {
    "collapsed": false
   },
   "outputs": [
    {
     "data": {
      "text/plain": [
       "Full-Stack Web Developer                                                                                                                                                                11.770595\n",
       "  Front-End Web Developer                                                                                                                                                                6.435927\n",
       "  Data Scientist                                                                                                                                                                         2.173913\n",
       "Back-End Web Developer                                                                                                                                                                   2.030892\n",
       "  Mobile Developer                                                                                                                                                                       1.673341\n",
       "Game Developer                                                                                                                                                                           1.630435\n",
       "Information Security                                                                                                                                                                     1.315789\n",
       "Full-Stack Web Developer,   Front-End Web Developer                                                                                                                                      0.915332\n",
       "  Front-End Web Developer, Full-Stack Web Developer                                                                                                                                      0.800915\n",
       "  Product Manager                                                                                                                                                                        0.786613\n",
       "Data Engineer                                                                                                                                                                            0.758009\n",
       "  User Experience Designer                                                                                                                                                               0.743707\n",
       "  User Experience Designer,   Front-End Web Developer                                                                                                                                    0.614989\n",
       "  Front-End Web Developer, Back-End Web Developer, Full-Stack Web Developer                                                                                                              0.557780\n",
       "Back-End Web Developer,   Front-End Web Developer, Full-Stack Web Developer                                                                                                              0.514874\n",
       "Back-End Web Developer, Full-Stack Web Developer,   Front-End Web Developer                                                                                                              0.514874\n",
       "  DevOps / SysAdmin                                                                                                                                                                      0.514874\n",
       "Full-Stack Web Developer,   Front-End Web Developer, Back-End Web Developer                                                                                                              0.443364\n",
       "  Front-End Web Developer, Full-Stack Web Developer, Back-End Web Developer                                                                                                              0.429062\n",
       "  Front-End Web Developer,   User Experience Designer                                                                                                                                    0.414760\n",
       "Full-Stack Web Developer,   Mobile Developer                                                                                                                                             0.414760\n",
       "Back-End Web Developer, Full-Stack Web Developer                                                                                                                                         0.386156\n",
       "Full-Stack Web Developer, Back-End Web Developer                                                                                                                                         0.371854\n",
       "Back-End Web Developer,   Front-End Web Developer                                                                                                                                        0.286041\n",
       "Data Engineer,   Data Scientist                                                                                                                                                          0.271739\n",
       "Full-Stack Web Developer, Back-End Web Developer,   Front-End Web Developer                                                                                                              0.271739\n",
       "  Front-End Web Developer,   Mobile Developer                                                                                                                                            0.257437\n",
       "Full-Stack Web Developer,   Data Scientist                                                                                                                                               0.243135\n",
       "  Mobile Developer, Game Developer                                                                                                                                                       0.228833\n",
       "  Data Scientist, Data Engineer                                                                                                                                                          0.228833\n",
       "                                                                                                                                                                                          ...    \n",
       "  Front-End Web Developer, Back-End Web Developer, Full-Stack Web Developer, Data Engineer,   Data Scientist                                                                             0.014302\n",
       "Full-Stack Web Developer, Game Developer,   Mobile Developer,   User Experience Designer,   Front-End Web Developer                                                                      0.014302\n",
       "  Mobile Developer, Full-Stack Web Developer,   Product Manager,   User Experience Designer, Back-End Web Developer                                                                      0.014302\n",
       "  User Experience Designer, Game Developer, Full-Stack Web Developer,   DevOps / SysAdmin,   Data Scientist                                                                              0.014302\n",
       "Information Security,   Mobile Developer,   User Experience Designer, Full-Stack Web Developer                                                                                           0.014302\n",
       "Full-Stack Web Developer,   DevOps / SysAdmin,   Quality Assurance Engineer,   User Experience Designer, Game Developer, Information Security,   Mobile Developer,   Product Manager     0.014302\n",
       "Data Engineer, Information Security, Back-End Web Developer,   User Experience Designer, Game Developer,   Mobile Developer,   Data Scientist                                            0.014302\n",
       "Game Developer, Data Engineer, Back-End Web Developer, Full-Stack Web Developer,   Front-End Web Developer,   User Experience Designer,   Data Scientist                                 0.014302\n",
       "  Mobile Developer, Full-Stack Web Developer,   Front-End Web Developer,   DevOps / SysAdmin, Back-End Web Developer,   User Experience Designer                                         0.014302\n",
       "  Mobile Developer,   User Experience Designer, Information Security, Back-End Web Developer, Full-Stack Web Developer,   Front-End Web Developer                                        0.014302\n",
       "Web development                                                                                                                                                                          0.014302\n",
       "Full-Stack Web Developer, Information Security,   Front-End Web Developer, Game Developer,   User Experience Designer, Back-End Web Developer                                            0.014302\n",
       "  Front-End Web Developer,   Mobile Developer,   DevOps / SysAdmin, Back-End Web Developer                                                                                               0.014302\n",
       "Back-End Web Developer, Data Engineer,   Quality Assurance Engineer                                                                                                                      0.014302\n",
       "Back-End Web Developer,   Product Manager,   Front-End Web Developer, Information Security                                                                                               0.014302\n",
       "  Data Scientist, Data Engineer, data analyst                                                                                                                                            0.014302\n",
       "Back-End Web Developer, Data Engineer,   Mobile Developer,   Quality Assurance Engineer                                                                                                  0.014302\n",
       "  DevOps / SysAdmin, Information Security, Game Developer, Data Engineer,   Front-End Web Developer,   User Experience Designer,   Mobile Developer                                      0.014302\n",
       "  Quality Assurance Engineer,   Front-End Web Developer,   User Experience Designer, Full-Stack Web Developer, Information Security                                                      0.014302\n",
       "  Mobile Developer, Information Security                                                                                                                                                 0.014302\n",
       "  Data Scientist, Information Security, Game Developer, Data Engineer,   Mobile Developer                                                                                                0.014302\n",
       "  Mobile Developer,   User Experience Designer,   Front-End Web Developer, Information Security, Full-Stack Web Developer                                                                0.014302\n",
       "  Front-End Web Developer,   Mobile Developer, Back-End Web Developer, Full-Stack Web Developer, Game Developer                                                                          0.014302\n",
       "Full-Stack Web Developer,   Mobile Developer,   DevOps / SysAdmin,   Data Scientist, Back-End Web Developer                                                                              0.014302\n",
       "  Front-End Web Developer, Game Developer,   Data Scientist, Data Engineer                                                                                                               0.014302\n",
       "Full-Stack Web Developer, Game Developer,   Front-End Web Developer, Information Security, Back-End Web Developer                                                                        0.014302\n",
       "  Front-End Web Developer, Full-Stack Web Developer,   Mobile Developer, Game Developer, Back-End Web Developer, Information Security,   DevOps / SysAdmin                               0.014302\n",
       "Data Engineer,   Mobile Developer,   Front-End Web Developer, Back-End Web Developer, Information Security                                                                               0.014302\n",
       "Security Business Analyst                                                                                                                                                                0.014302\n",
       "Data Engineer, Game Developer, Information Security,   Front-End Web Developer,   Data Scientist, Back-End Web Developer, Full-Stack Web Developer                                       0.014302\n",
       "Name: JobRoleInterest, Length: 3213, dtype: float64"
      ]
     },
     "execution_count": 6,
     "metadata": {},
     "output_type": "execute_result"
    }
   ],
   "source": [
    "fcc['JobRoleInterest'].value_counts(normalize=True)*100\n"
   ]
  },
  {
   "cell_type": "code",
   "execution_count": 7,
   "metadata": {
    "collapsed": true
   },
   "outputs": [],
   "source": [
    "plt.style.use('fivethirtyeight')"
   ]
  },
  {
   "cell_type": "code",
   "execution_count": 8,
   "metadata": {
    "collapsed": false
   },
   "outputs": [
    {
     "data": {
      "text/plain": [
       "array([nan, 'full-stack web developer',\n",
       "       '  front-end web developer, back-end web developer,   devops / sysadmin,   mobile developer, full-stack web developer',\n",
       "       ...,\n",
       "       '  data scientist, game developer,   quality assurance engineer',\n",
       "       'back-end web developer, data engineer,   data scientist,   devops / sysadmin',\n",
       "       '  devops / sysadmin,   mobile developer,   product manager, game developer,   front-end web developer, data engineer,   quality assurance engineer,   user experience designer, back-end web developer,   data scientist, full-stack web developer, information security, it specialist '],\n",
       "      dtype=object)"
      ]
     },
     "execution_count": 8,
     "metadata": {},
     "output_type": "execute_result"
    }
   ],
   "source": [
    "rols = fcc['JobRoleInterest'].str.lower().unique()\n",
    "my_rols = ['web','data','devops','mobile','app','game','user','security']\n",
    "rols"
   ]
  },
  {
   "cell_type": "code",
   "execution_count": 9,
   "metadata": {
    "collapsed": true
   },
   "outputs": [],
   "source": [
    "# making costomized freequency table: # match for non case sensitive.\n",
    "def ser_freq(parameter,data):         \n",
    "    ser = pd.Series(0,index=parameter)\n",
    "    for i in parameter:\n",
    "        ser[i] = data.str.contains(i,case=0).sum()\n",
    "    return ser\n",
    "        \n",
    "        \n",
    "    "
   ]
  },
  {
   "cell_type": "code",
   "execution_count": 10,
   "metadata": {
    "collapsed": false
   },
   "outputs": [
    {
     "data": {
      "text/plain": [
       "web         37.241513\n",
       "data        13.373704\n",
       "devops       5.971784\n",
       "mobile      14.848934\n",
       "app          0.051536\n",
       "game        10.494106\n",
       "user         9.469819\n",
       "security     8.548605\n",
       "dtype: float64"
      ]
     },
     "execution_count": 10,
     "metadata": {},
     "output_type": "execute_result"
    }
   ],
   "source": [
    "tabl = ser_freq(my_rols,fcc['JobRoleInterest'])\n",
    "(tabl/sum(tabl) )*100\n",
    "# tabl.index"
   ]
  },
  {
   "cell_type": "code",
   "execution_count": 11,
   "metadata": {
    "collapsed": false
   },
   "outputs": [
    {
     "data": {
      "text/plain": [
       "<matplotlib.axes._subplots.AxesSubplot at 0x7fcdb8695e10>"
      ]
     },
     "execution_count": 11,
     "metadata": {},
     "output_type": "execute_result"
    },
    {
     "data": {
      "image/png": "[encoded data removed]",
      "text/plain": [
       "<matplotlib.figure.Figure at 0x7fcdb86955f8>"
      ]
     },
     "metadata": {},
     "output_type": "display_data"
    }
   ],
   "source": [
    "tabl.plot(kind='bar')\n"
   ]
  },
  {
   "cell_type": "markdown",
   "metadata": {},
   "source": [
    "from above working:\n",
    "\n",
    "1. there are students who are interested in multiple domins.\n",
    "2. our focous is on web related cources so there are almose 6000 students who are interested in learning."
   ]
  },
  {
   "cell_type": "markdown",
   "metadata": {},
   "source": [
    "# Location based analysis\n"
   ]
  },
  {
   "cell_type": "code",
   "execution_count": 12,
   "metadata": {
    "collapsed": false
   },
   "outputs": [
    {
     "data": {
      "text/plain": [
       "United States of America         5791\n",
       "India                            1400\n",
       "United Kingdom                    757\n",
       "Canada                            616\n",
       "Brazil                            364\n",
       "Germany                           324\n",
       "Poland                            265\n",
       "Russia                            263\n",
       "Australia                         259\n",
       "France                            228\n",
       "Spain                             217\n",
       "Nigeria                           214\n",
       "Ukraine                           202\n",
       "Romania                           171\n",
       "Italy                             164\n",
       "Mexico                            155\n",
       "Netherlands (Holland, Europe)     142\n",
       "Philippines                       135\n",
       "South Africa                      126\n",
       "Turkey                            120\n",
       "Greece                            116\n",
       "Serbia                            115\n",
       "Argentina                         113\n",
       "Pakistan                          109\n",
       "Kenya                              92\n",
       "Indonesia                          91\n",
       "China                              90\n",
       "Egypt                              87\n",
       "Sweden                             80\n",
       "Hungary                            77\n",
       "                                 ... \n",
       "Yemen                               2\n",
       "Mongolia                            2\n",
       "Anguilla                            1\n",
       "Madagascar                          1\n",
       "Barbados                            1\n",
       "Isle of Man                         1\n",
       "Kuwait                              1\n",
       "Burundi                             1\n",
       "Botswana                            1\n",
       "Liberia                             1\n",
       "Martinique                          1\n",
       "Vanuatu                             1\n",
       "Tajikistan                          1\n",
       "Rwanda                              1\n",
       "British Indian Ocean Ter            1\n",
       "Virgin Islands (British)            1\n",
       "Guadeloupe                          1\n",
       "Aruba                               1\n",
       "Greenland                           1\n",
       "Channel Islands                     1\n",
       "Gibraltar                           1\n",
       "Bermuda                             1\n",
       "New Caledonia                       1\n",
       "Canary Islands                      1\n",
       "Samoa                               1\n",
       "Korea North                         1\n",
       "Gabon                               1\n",
       "Hawaii                              1\n",
       "Curacao                             1\n",
       "Sierra Leone                        1\n",
       "Name: CountryLive, Length: 172, dtype: int64"
      ]
     },
     "execution_count": 12,
     "metadata": {},
     "output_type": "execute_result"
    }
   ],
   "source": [
    "fcc['CountryLive'].value_counts()"
   ]
  },
  {
   "cell_type": "code",
   "execution_count": 13,
   "metadata": {
    "collapsed": false
   },
   "outputs": [
    {
     "data": {
      "text/html": [
       "<div>\n",
       "<style scoped>\n",
       "    .dataframe tbody tr th:only-of-type {\n",
       "        vertical-align: middle;\n",
       "    }\n",
       "\n",
       "    .dataframe tbody tr th {\n",
       "        vertical-align: top;\n",
       "    }\n",
       "\n",
       "    .dataframe thead th {\n",
       "        text-align: right;\n",
       "    }\n",
       "</style>\n",
       "<table border=\"1\" class=\"dataframe\">\n",
       "  <thead>\n",
       "    <tr style=\"text-align: right;\">\n",
       "      <th></th>\n",
       "      <th>counts</th>\n",
       "      <th>rel_freq</th>\n",
       "    </tr>\n",
       "  </thead>\n",
       "  <tbody>\n",
       "    <tr>\n",
       "      <th>United States of America</th>\n",
       "      <td>3125</td>\n",
       "      <td>45.700497</td>\n",
       "    </tr>\n",
       "    <tr>\n",
       "      <th>India</th>\n",
       "      <td>528</td>\n",
       "      <td>7.721556</td>\n",
       "    </tr>\n",
       "    <tr>\n",
       "      <th>United Kingdom</th>\n",
       "      <td>315</td>\n",
       "      <td>4.606610</td>\n",
       "    </tr>\n",
       "    <tr>\n",
       "      <th>Canada</th>\n",
       "      <td>260</td>\n",
       "      <td>3.802281</td>\n",
       "    </tr>\n",
       "    <tr>\n",
       "      <th>Poland</th>\n",
       "      <td>131</td>\n",
       "      <td>1.915765</td>\n",
       "    </tr>\n",
       "  </tbody>\n",
       "</table>\n",
       "</div>"
      ],
      "text/plain": [
       "                          counts   rel_freq\n",
       "United States of America    3125  45.700497\n",
       "India                        528   7.721556\n",
       "United Kingdom               315   4.606610\n",
       "Canada                       260   3.802281\n",
       "Poland                       131   1.915765"
      ]
     },
     "execution_count": 13,
     "metadata": {},
     "output_type": "execute_result"
    }
   ],
   "source": [
    "fcc = fcc[fcc['JobRoleInterest'].notnull()].copy()\n",
    "count = fcc['CountryLive'].value_counts()\n",
    "relative = fcc['CountryLive'].value_counts(normalize=1)*100\n",
    "\n",
    "summary = pd.DataFrame(data = {'counts':count,'rel_freq':relative})\n",
    "summary.head()"
   ]
  },
  {
   "cell_type": "markdown",
   "metadata": {},
   "source": [
    "** These are top 5 counties fro adv. **"
   ]
  },
  {
   "cell_type": "markdown",
   "metadata": {
    "collapsed": true
   },
   "source": [
    "## Money spending for learning\n",
    "\n",
    "We can continue by figuring out how much money new coders are actually willing to spend on learning. Advertising within markets where most people are only willing to learn for free is extremely unlikely to be profitable for us."
   ]
  },
  {
   "cell_type": "code",
   "execution_count": 17,
   "metadata": {
    "collapsed": true
   },
   "outputs": [
    {
     "data": {
      "text/html": [
       "<div>\n",
       "<style scoped>\n",
       "    .dataframe tbody tr th:only-of-type {\n",
       "        vertical-align: middle;\n",
       "    }\n",
       "\n",
       "    .dataframe tbody tr th {\n",
       "        vertical-align: top;\n",
       "    }\n",
       "\n",
       "    .dataframe thead th {\n",
       "        text-align: right;\n",
       "    }\n",
       "</style>\n",
       "<table border=\"1\" class=\"dataframe\">\n",
       "  <thead>\n",
       "    <tr style=\"text-align: right;\">\n",
       "      <th></th>\n",
       "      <th>CountryLive</th>\n",
       "      <th>MoneyForLearning</th>\n",
       "      <th>MonthsProgramming</th>\n",
       "    </tr>\n",
       "  </thead>\n",
       "  <tbody>\n",
       "    <tr>\n",
       "      <th>16650</th>\n",
       "      <td>United States of America</td>\n",
       "      <td>200000.0</td>\n",
       "      <td>12.0</td>\n",
       "    </tr>\n",
       "    <tr>\n",
       "      <th>8030</th>\n",
       "      <td>United States of America</td>\n",
       "      <td>120000.0</td>\n",
       "      <td>36.0</td>\n",
       "    </tr>\n",
       "    <tr>\n",
       "      <th>2478</th>\n",
       "      <td>United States of America</td>\n",
       "      <td>100000.0</td>\n",
       "      <td>2.0</td>\n",
       "    </tr>\n",
       "    <tr>\n",
       "      <th>15587</th>\n",
       "      <td>India</td>\n",
       "      <td>100000.0</td>\n",
       "      <td>24.0</td>\n",
       "    </tr>\n",
       "    <tr>\n",
       "      <th>4614</th>\n",
       "      <td>Bangladesh</td>\n",
       "      <td>100000.0</td>\n",
       "      <td>24.0</td>\n",
       "    </tr>\n",
       "    <tr>\n",
       "      <th>14024</th>\n",
       "      <td>United States of America</td>\n",
       "      <td>80000.0</td>\n",
       "      <td>1.0</td>\n",
       "    </tr>\n",
       "    <tr>\n",
       "      <th>7198</th>\n",
       "      <td>United States of America</td>\n",
       "      <td>70000.0</td>\n",
       "      <td>5.0</td>\n",
       "    </tr>\n",
       "    <tr>\n",
       "      <th>9435</th>\n",
       "      <td>United States of America</td>\n",
       "      <td>69000.0</td>\n",
       "      <td>60.0</td>\n",
       "    </tr>\n",
       "    <tr>\n",
       "      <th>3930</th>\n",
       "      <td>United States of America</td>\n",
       "      <td>65000.0</td>\n",
       "      <td>6.0</td>\n",
       "    </tr>\n",
       "    <tr>\n",
       "      <th>1755</th>\n",
       "      <td>India</td>\n",
       "      <td>50000.0</td>\n",
       "      <td>15.0</td>\n",
       "    </tr>\n",
       "    <tr>\n",
       "      <th>16700</th>\n",
       "      <td>United States of America</td>\n",
       "      <td>45000.0</td>\n",
       "      <td>10.0</td>\n",
       "    </tr>\n",
       "    <tr>\n",
       "      <th>6529</th>\n",
       "      <td>Russia</td>\n",
       "      <td>40000.0</td>\n",
       "      <td>2.0</td>\n",
       "    </tr>\n",
       "    <tr>\n",
       "      <th>6835</th>\n",
       "      <td>Spain</td>\n",
       "      <td>40000.0</td>\n",
       "      <td>1.0</td>\n",
       "    </tr>\n",
       "    <tr>\n",
       "      <th>13381</th>\n",
       "      <td>United States of America</td>\n",
       "      <td>35000.0</td>\n",
       "      <td>36.0</td>\n",
       "    </tr>\n",
       "    <tr>\n",
       "      <th>13795</th>\n",
       "      <td>Puerto Rico</td>\n",
       "      <td>30000.0</td>\n",
       "      <td>0.0</td>\n",
       "    </tr>\n",
       "    <tr>\n",
       "      <th>17176</th>\n",
       "      <td>United States of America</td>\n",
       "      <td>30000.0</td>\n",
       "      <td>18.0</td>\n",
       "    </tr>\n",
       "    <tr>\n",
       "      <th>17231</th>\n",
       "      <td>United States of America</td>\n",
       "      <td>30000.0</td>\n",
       "      <td>2.0</td>\n",
       "    </tr>\n",
       "    <tr>\n",
       "      <th>13937</th>\n",
       "      <td>NaN</td>\n",
       "      <td>27000.0</td>\n",
       "      <td>12.0</td>\n",
       "    </tr>\n",
       "    <tr>\n",
       "      <th>3931</th>\n",
       "      <td>Australia</td>\n",
       "      <td>26000.0</td>\n",
       "      <td>3.0</td>\n",
       "    </tr>\n",
       "    <tr>\n",
       "      <th>7367</th>\n",
       "      <td>United States of America</td>\n",
       "      <td>25000.0</td>\n",
       "      <td>72.0</td>\n",
       "    </tr>\n",
       "    <tr>\n",
       "      <th>6012</th>\n",
       "      <td>United States of America</td>\n",
       "      <td>25000.0</td>\n",
       "      <td>36.0</td>\n",
       "    </tr>\n",
       "    <tr>\n",
       "      <th>4552</th>\n",
       "      <td>United States of America</td>\n",
       "      <td>25000.0</td>\n",
       "      <td>36.0</td>\n",
       "    </tr>\n",
       "    <tr>\n",
       "      <th>12810</th>\n",
       "      <td>Australia</td>\n",
       "      <td>25000.0</td>\n",
       "      <td>8.0</td>\n",
       "    </tr>\n",
       "    <tr>\n",
       "      <th>4649</th>\n",
       "      <td>United States of America</td>\n",
       "      <td>25000.0</td>\n",
       "      <td>30.0</td>\n",
       "    </tr>\n",
       "    <tr>\n",
       "      <th>4808</th>\n",
       "      <td>Brazil</td>\n",
       "      <td>25000.0</td>\n",
       "      <td>12.0</td>\n",
       "    </tr>\n",
       "    <tr>\n",
       "      <th>13587</th>\n",
       "      <td>United States of America</td>\n",
       "      <td>24500.0</td>\n",
       "      <td>12.0</td>\n",
       "    </tr>\n",
       "    <tr>\n",
       "      <th>17911</th>\n",
       "      <td>Canada</td>\n",
       "      <td>22000.0</td>\n",
       "      <td>20.0</td>\n",
       "    </tr>\n",
       "    <tr>\n",
       "      <th>7193</th>\n",
       "      <td>Canada</td>\n",
       "      <td>21000.0</td>\n",
       "      <td>12.0</td>\n",
       "    </tr>\n",
       "    <tr>\n",
       "      <th>7505</th>\n",
       "      <td>United States of America</td>\n",
       "      <td>20000.0</td>\n",
       "      <td>3.0</td>\n",
       "    </tr>\n",
       "    <tr>\n",
       "      <th>1728</th>\n",
       "      <td>India</td>\n",
       "      <td>20000.0</td>\n",
       "      <td>4.0</td>\n",
       "    </tr>\n",
       "    <tr>\n",
       "      <th>...</th>\n",
       "      <td>...</td>\n",
       "      <td>...</td>\n",
       "      <td>...</td>\n",
       "    </tr>\n",
       "    <tr>\n",
       "      <th>16747</th>\n",
       "      <td>France</td>\n",
       "      <td>NaN</td>\n",
       "      <td>NaN</td>\n",
       "    </tr>\n",
       "    <tr>\n",
       "      <th>16827</th>\n",
       "      <td>United States of America</td>\n",
       "      <td>NaN</td>\n",
       "      <td>NaN</td>\n",
       "    </tr>\n",
       "    <tr>\n",
       "      <th>16906</th>\n",
       "      <td>United States of America</td>\n",
       "      <td>NaN</td>\n",
       "      <td>NaN</td>\n",
       "    </tr>\n",
       "    <tr>\n",
       "      <th>16953</th>\n",
       "      <td>Philippines</td>\n",
       "      <td>NaN</td>\n",
       "      <td>6.0</td>\n",
       "    </tr>\n",
       "    <tr>\n",
       "      <th>16982</th>\n",
       "      <td>United States of America</td>\n",
       "      <td>NaN</td>\n",
       "      <td>1.0</td>\n",
       "    </tr>\n",
       "    <tr>\n",
       "      <th>16985</th>\n",
       "      <td>Paraguay</td>\n",
       "      <td>NaN</td>\n",
       "      <td>NaN</td>\n",
       "    </tr>\n",
       "    <tr>\n",
       "      <th>16995</th>\n",
       "      <td>NaN</td>\n",
       "      <td>NaN</td>\n",
       "      <td>NaN</td>\n",
       "    </tr>\n",
       "    <tr>\n",
       "      <th>17005</th>\n",
       "      <td>Croatia</td>\n",
       "      <td>NaN</td>\n",
       "      <td>2.0</td>\n",
       "    </tr>\n",
       "    <tr>\n",
       "      <th>17011</th>\n",
       "      <td>NaN</td>\n",
       "      <td>NaN</td>\n",
       "      <td>NaN</td>\n",
       "    </tr>\n",
       "    <tr>\n",
       "      <th>17012</th>\n",
       "      <td>France</td>\n",
       "      <td>NaN</td>\n",
       "      <td>120.0</td>\n",
       "    </tr>\n",
       "    <tr>\n",
       "      <th>17066</th>\n",
       "      <td>Spain</td>\n",
       "      <td>NaN</td>\n",
       "      <td>NaN</td>\n",
       "    </tr>\n",
       "    <tr>\n",
       "      <th>17095</th>\n",
       "      <td>France</td>\n",
       "      <td>NaN</td>\n",
       "      <td>NaN</td>\n",
       "    </tr>\n",
       "    <tr>\n",
       "      <th>17147</th>\n",
       "      <td>United States of America</td>\n",
       "      <td>NaN</td>\n",
       "      <td>22.0</td>\n",
       "    </tr>\n",
       "    <tr>\n",
       "      <th>17206</th>\n",
       "      <td>United States of America</td>\n",
       "      <td>NaN</td>\n",
       "      <td>NaN</td>\n",
       "    </tr>\n",
       "    <tr>\n",
       "      <th>17221</th>\n",
       "      <td>United States of America</td>\n",
       "      <td>NaN</td>\n",
       "      <td>1.0</td>\n",
       "    </tr>\n",
       "    <tr>\n",
       "      <th>17226</th>\n",
       "      <td>Russia</td>\n",
       "      <td>NaN</td>\n",
       "      <td>6.0</td>\n",
       "    </tr>\n",
       "    <tr>\n",
       "      <th>17255</th>\n",
       "      <td>Philippines</td>\n",
       "      <td>NaN</td>\n",
       "      <td>2.0</td>\n",
       "    </tr>\n",
       "    <tr>\n",
       "      <th>17314</th>\n",
       "      <td>United States of America</td>\n",
       "      <td>NaN</td>\n",
       "      <td>10.0</td>\n",
       "    </tr>\n",
       "    <tr>\n",
       "      <th>17345</th>\n",
       "      <td>United States of America</td>\n",
       "      <td>NaN</td>\n",
       "      <td>NaN</td>\n",
       "    </tr>\n",
       "    <tr>\n",
       "      <th>17478</th>\n",
       "      <td>Russia</td>\n",
       "      <td>NaN</td>\n",
       "      <td>NaN</td>\n",
       "    </tr>\n",
       "    <tr>\n",
       "      <th>17521</th>\n",
       "      <td>Ukraine</td>\n",
       "      <td>NaN</td>\n",
       "      <td>NaN</td>\n",
       "    </tr>\n",
       "    <tr>\n",
       "      <th>17590</th>\n",
       "      <td>United Kingdom</td>\n",
       "      <td>NaN</td>\n",
       "      <td>NaN</td>\n",
       "    </tr>\n",
       "    <tr>\n",
       "      <th>17622</th>\n",
       "      <td>Italy</td>\n",
       "      <td>NaN</td>\n",
       "      <td>12.0</td>\n",
       "    </tr>\n",
       "    <tr>\n",
       "      <th>17632</th>\n",
       "      <td>Poland</td>\n",
       "      <td>NaN</td>\n",
       "      <td>12.0</td>\n",
       "    </tr>\n",
       "    <tr>\n",
       "      <th>17734</th>\n",
       "      <td>United Kingdom</td>\n",
       "      <td>NaN</td>\n",
       "      <td>408.0</td>\n",
       "    </tr>\n",
       "    <tr>\n",
       "      <th>17862</th>\n",
       "      <td>United Kingdom</td>\n",
       "      <td>NaN</td>\n",
       "      <td>NaN</td>\n",
       "    </tr>\n",
       "    <tr>\n",
       "      <th>18055</th>\n",
       "      <td>United States of America</td>\n",
       "      <td>NaN</td>\n",
       "      <td>0.0</td>\n",
       "    </tr>\n",
       "    <tr>\n",
       "      <th>18068</th>\n",
       "      <td>France</td>\n",
       "      <td>NaN</td>\n",
       "      <td>24.0</td>\n",
       "    </tr>\n",
       "    <tr>\n",
       "      <th>18081</th>\n",
       "      <td>Serbia</td>\n",
       "      <td>NaN</td>\n",
       "      <td>12.0</td>\n",
       "    </tr>\n",
       "    <tr>\n",
       "      <th>18174</th>\n",
       "      <td>United Kingdom</td>\n",
       "      <td>NaN</td>\n",
       "      <td>10.0</td>\n",
       "    </tr>\n",
       "  </tbody>\n",
       "</table>\n",
       "<p>6992 rows × 3 columns</p>\n",
       "</div>"
      ],
      "text/plain": [
       "                    CountryLive  MoneyForLearning  MonthsProgramming\n",
       "16650  United States of America          200000.0               12.0\n",
       "8030   United States of America          120000.0               36.0\n",
       "2478   United States of America          100000.0                2.0\n",
       "15587                     India          100000.0               24.0\n",
       "4614                 Bangladesh          100000.0               24.0\n",
       "14024  United States of America           80000.0                1.0\n",
       "7198   United States of America           70000.0                5.0\n",
       "9435   United States of America           69000.0               60.0\n",
       "3930   United States of America           65000.0                6.0\n",
       "1755                      India           50000.0               15.0\n",
       "16700  United States of America           45000.0               10.0\n",
       "6529                     Russia           40000.0                2.0\n",
       "6835                      Spain           40000.0                1.0\n",
       "13381  United States of America           35000.0               36.0\n",
       "13795               Puerto Rico           30000.0                0.0\n",
       "17176  United States of America           30000.0               18.0\n",
       "17231  United States of America           30000.0                2.0\n",
       "13937                       NaN           27000.0               12.0\n",
       "3931                  Australia           26000.0                3.0\n",
       "7367   United States of America           25000.0               72.0\n",
       "6012   United States of America           25000.0               36.0\n",
       "4552   United States of America           25000.0               36.0\n",
       "12810                 Australia           25000.0                8.0\n",
       "4649   United States of America           25000.0               30.0\n",
       "4808                     Brazil           25000.0               12.0\n",
       "13587  United States of America           24500.0               12.0\n",
       "17911                    Canada           22000.0               20.0\n",
       "7193                     Canada           21000.0               12.0\n",
       "7505   United States of America           20000.0                3.0\n",
       "1728                      India           20000.0                4.0\n",
       "...                         ...               ...                ...\n",
       "16747                    France               NaN                NaN\n",
       "16827  United States of America               NaN                NaN\n",
       "16906  United States of America               NaN                NaN\n",
       "16953               Philippines               NaN                6.0\n",
       "16982  United States of America               NaN                1.0\n",
       "16985                  Paraguay               NaN                NaN\n",
       "16995                       NaN               NaN                NaN\n",
       "17005                   Croatia               NaN                2.0\n",
       "17011                       NaN               NaN                NaN\n",
       "17012                    France               NaN              120.0\n",
       "17066                     Spain               NaN                NaN\n",
       "17095                    France               NaN                NaN\n",
       "17147  United States of America               NaN               22.0\n",
       "17206  United States of America               NaN                NaN\n",
       "17221  United States of America               NaN                1.0\n",
       "17226                    Russia               NaN                6.0\n",
       "17255               Philippines               NaN                2.0\n",
       "17314  United States of America               NaN               10.0\n",
       "17345  United States of America               NaN                NaN\n",
       "17478                    Russia               NaN                NaN\n",
       "17521                   Ukraine               NaN                NaN\n",
       "17590            United Kingdom               NaN                NaN\n",
       "17622                     Italy               NaN               12.0\n",
       "17632                    Poland               NaN               12.0\n",
       "17734            United Kingdom               NaN              408.0\n",
       "17862            United Kingdom               NaN                NaN\n",
       "18055  United States of America               NaN                0.0\n",
       "18068                    France               NaN               24.0\n",
       "18081                    Serbia               NaN               12.0\n",
       "18174            United Kingdom               NaN               10.0\n",
       "\n",
       "[6992 rows x 3 columns]"
      ]
     },
     "execution_count": 17,
     "metadata": {},
     "output_type": "execute_result"
    }
   ],
   "source": [
    "fcc[ ['CountryLive','MoneyForLearning','MonthsProgramming'] ].sort_values('MoneyForLearning',ascending=0)"
   ]
  },
  {
   "cell_type": "code",
   "execution_count": 20,
   "metadata": {
    "collapsed": false
   },
   "outputs": [],
   "source": [
    "fcc['MonthsProgramming'].replace(0,1,inplace=True)"
   ]
  },
  {
   "cell_type": "code",
   "execution_count": 21,
   "metadata": {
    "collapsed": true
   },
   "outputs": [
    {
     "data": {
      "text/plain": [
       "1.0      1002\n",
       "2.0       669\n",
       "6.0       654\n",
       "3.0       637\n",
       "12.0      616\n",
       "24.0      422\n",
       "4.0       367\n",
       "5.0       279\n",
       "36.0      251\n",
       "8.0       195\n",
       "18.0      160\n",
       "10.0      144\n",
       "7.0       124\n",
       "48.0      112\n",
       "9.0       102\n",
       "20.0       92\n",
       "30.0       82\n",
       "60.0       79\n",
       "14.0       76\n",
       "15.0       70\n",
       "16.0       58\n",
       "40.0       43\n",
       "11.0       39\n",
       "13.0       36\n",
       "50.0       29\n",
       "72.0       28\n",
       "17.0       20\n",
       "26.0       17\n",
       "28.0       13\n",
       "120.0      13\n",
       "         ... \n",
       "31.0        2\n",
       "33.0        2\n",
       "37.0        2\n",
       "59.0        2\n",
       "156.0       2\n",
       "108.0       2\n",
       "69.0        1\n",
       "56.0        1\n",
       "73.0        1\n",
       "41.0        1\n",
       "83.0        1\n",
       "89.0        1\n",
       "111.0       1\n",
       "124.0       1\n",
       "46.0        1\n",
       "408.0       1\n",
       "300.0       1\n",
       "370.0       1\n",
       "264.0       1\n",
       "58.0        1\n",
       "86.0        1\n",
       "180.0       1\n",
       "43.0        1\n",
       "190.0       1\n",
       "113.0       1\n",
       "49.0        1\n",
       "171.0       1\n",
       "198.0       1\n",
       "105.0       1\n",
       "51.0        1\n",
       "Name: MonthsProgramming, Length: 90, dtype: int64"
      ]
     },
     "execution_count": 21,
     "metadata": {},
     "output_type": "execute_result"
    }
   ],
   "source": [
    "fcc['MonthsProgramming'].value_counts(0)"
   ]
  },
  {
   "cell_type": "code",
   "execution_count": 25,
   "metadata": {
    "collapsed": true
   },
   "outputs": [
    {
     "data": {
      "text/plain": [
       " 0.000000        3092\n",
       "NaN               675\n",
       " 50.000000        128\n",
       " 25.000000        120\n",
       " 16.666667        118\n",
       " 100.000000       118\n",
       " 33.333333        109\n",
       " 8.333333         105\n",
       " 20.000000         88\n",
       " 10.000000         83\n",
       " 83.333333         80\n",
       " 166.666667        67\n",
       " 12.500000         66\n",
       " 4.166667          65\n",
       " 5.000000          62\n",
       " 200.000000        53\n",
       " 500.000000        50\n",
       " 66.666667         47\n",
       " 41.666667         46\n",
       " 250.000000        44\n",
       " 1000.000000       43\n",
       " 3.333333          38\n",
       " 20.833333         37\n",
       " 125.000000        36\n",
       " 6.666667          35\n",
       " 2.500000          33\n",
       " 5.555556          31\n",
       " 150.000000        31\n",
       " 333.333333        31\n",
       " 11.111111         31\n",
       "                 ... \n",
       " 1.562500           1\n",
       " 29.000000          1\n",
       " 23.000000          1\n",
       " 19.000000          1\n",
       " 31.000000          1\n",
       " 3.625000           1\n",
       " 4.750000           1\n",
       " 92.000000          1\n",
       " 117.500000         1\n",
       " 4.687500           1\n",
       " 1142.857143        1\n",
       " 0.900000           1\n",
       " 866.666667         1\n",
       " 1.344086           1\n",
       " 1670.000000        1\n",
       " 4.857143           1\n",
       " 122.500000         1\n",
       " 370.000000         1\n",
       " 1.052632           1\n",
       " 1.818182           1\n",
       " 3.472222           1\n",
       " 1.190476           1\n",
       " 1.612903           1\n",
       " 7.777778           1\n",
       " 17.833333          1\n",
       " 3.076923           1\n",
       " 10.833333          1\n",
       " 30000.000000       1\n",
       " 312.500000         1\n",
       " 611.111111         1\n",
       "Name: money_per_month, Length: 494, dtype: int64"
      ]
     },
     "execution_count": 25,
     "metadata": {},
     "output_type": "execute_result"
    }
   ],
   "source": [
    "fcc['money_per_month'] = fcc['MoneyForLearning']/fcc['MonthsProgramming']\n",
    "fcc['money_per_month'].value_counts(dropna=0)\n"
   ]
  },
  {
   "cell_type": "code",
   "execution_count": 36,
   "metadata": {
    "collapsed": false
   },
   "outputs": [],
   "source": [
    "valid_indexs = fcc[['CountryLive','money_per_month']].dropna(axis=1).index\n",
    "# fcc_good = fcc.loc[valid_indexs].copy()\n",
    "# (valid_indexs==fcc.index).sum()==fcc.shape[0]\n",
    "fcc_good = fcc[(fcc['money_per_month'].notnull()&fcc['CountryLive'].notnull())].copy()"
   ]
  },
  {
   "cell_type": "code",
   "execution_count": 39,
   "metadata": {
    "collapsed": false
   },
   "outputs": [],
   "source": [
    "top5 = fcc_good['CountryLive'].value_counts().head().index"
   ]
  },
  {
   "cell_type": "code",
   "execution_count": 55,
   "metadata": {
    "collapsed": true
   },
   "outputs": [
    {
     "data": {
      "text/plain": [
       "United States of America    227.997996\n",
       "India                       135.100982\n",
       "United Kingdom               45.534443\n",
       "Canada                      113.510961\n",
       "Poland                       75.678935\n",
       "Name: money_per_month, dtype: float64"
      ]
     },
     "execution_count": 55,
     "metadata": {},
     "output_type": "execute_result"
    }
   ],
   "source": [
    "grp_obj = fcc_good.groupby(by ='CountryLive',axis=0)\n",
    "mn = grp_obj.mean()\n",
    "mn.head()\n",
    "means = mn['money_per_month'][top5]\n",
    "# mods = grp_obj.median()\n",
    "# mods['money_per_month'][top5]\n",
    "means"
   ]
  },
  {
   "cell_type": "markdown",
   "metadata": {},
   "source": [
    "Truth is that people in UK are rich but they are spending very low money so there might be outliears or some error"
   ]
  },
  {
   "cell_type": "markdown",
   "metadata": {},
   "source": [
    "It also seems like a good idea to narrow down our analysis to only four countries: the US, India, the United Kingdom, and Canada. Two reasons for this decision are:\n",
    "\n",
    "These are the countries having the highest absolute frequencies in our sample, which means we have a decent amount of data for each.\n",
    "Our courses are written in English, and English is an official language in all these four countries. The more people that know English, the better our chances to target the right people with our ads."
   ]
  },
  {
   "cell_type": "markdown",
   "metadata": {},
   "source": [
    "## Dealing with outliars"
   ]
  },
  {
   "cell_type": "code",
   "execution_count": 60,
   "metadata": {
    "collapsed": true
   },
   "outputs": [
    {
     "name": "stderr",
     "output_type": "stream",
     "text": [
      "/dataquest/system/env/python3/lib/python3.4/site-packages/seaborn/categorical.py:454: FutureWarning:\n",
      "\n",
      "remove_na is deprecated and is a private function. Do not use.\n",
      "\n"
     ]
    },
    {
     "data": {
      "image/png": "[encoded data removed]",
      "text/plain": [
       "<matplotlib.figure.Figure at 0x7fcdae126ef0>"
      ]
     },
     "metadata": {},
     "output_type": "display_data"
    }
   ],
   "source": [
    "only_4 = fcc_good[fcc_good['CountryLive'].str.contains('United States of America|India|United Kingdom|Canada')]\n",
    "\n",
    "# Box plots to visualize distributions\n",
    "import seaborn as sns\n",
    "sns.boxplot(y = 'money_per_month', x = 'CountryLive',\n",
    "            data = only_4)\n",
    "plt.title('Money Spent Per Month Per Country\\n(Distributions)',\n",
    "         fontsize = 16)\n",
    "plt.ylabel('Money per month (US dollars)')\n",
    "plt.xlabel('Country')\n",
    "plt.xticks(range(4), ['US', 'UK', 'India', 'Canada']) \n",
    "# avoids tick labels overlap\n",
    "plt.show()\n"
   ]
  },
  {
   "cell_type": "code",
   "execution_count": 63,
   "metadata": {
    "collapsed": true
   },
   "outputs": [
    {
     "data": {
      "text/plain": [
       "count     2933.000000\n",
       "mean       227.997996\n",
       "std       1940.245614\n",
       "min          0.000000\n",
       "25%          0.000000\n",
       "50%          3.333333\n",
       "75%         50.000000\n",
       "max      80000.000000\n",
       "Name: money_per_month, dtype: float64"
      ]
     },
     "execution_count": 63,
     "metadata": {},
     "output_type": "execute_result"
    }
   ],
   "source": [
    "only_4[only_4['CountryLive']=='United States of America']['money_per_month'].describe()"
   ]
  },
  {
   "cell_type": "code",
   "execution_count": 64,
   "metadata": {
    "collapsed": true
   },
   "outputs": [],
   "source": [
    "only_4 = only_4[only_4['money_per_month']<=20000]"
   ]
  },
  {
   "cell_type": "code",
   "execution_count": 65,
   "metadata": {
    "collapsed": false
   },
   "outputs": [
    {
     "name": "stderr",
     "output_type": "stream",
     "text": [
      "/dataquest/system/env/python3/lib/python3.4/site-packages/seaborn/categorical.py:454: FutureWarning:\n",
      "\n",
      "remove_na is deprecated and is a private function. Do not use.\n",
      "\n"
     ]
    },
    {
     "data": {
      "image/png": "[encoded data removed]",
      "text/plain": [
       "<matplotlib.figure.Figure at 0x7fcdae1ac128>"
      ]
     },
     "metadata": {},
     "output_type": "display_data"
    }
   ],
   "source": [
    "import seaborn as sns\n",
    "sns.boxplot(y = 'money_per_month', x = 'CountryLive',\n",
    "            data = only_4)\n",
    "plt.title('Money Spent Per Month Per Country\\n(Distributions)',\n",
    "         fontsize = 16)\n",
    "plt.ylabel('Money per month (US dollars)')\n",
    "plt.xlabel('Country')\n",
    "plt.xticks(range(4), ['US', 'UK', 'India', 'Canada']) \n",
    "# avoids tick labels overlap\n",
    "plt.show()\n"
   ]
  },
  {
   "cell_type": "code",
   "execution_count": 66,
   "metadata": {
    "collapsed": true
   },
   "outputs": [],
   "source": [
    "only_4 = only_4.drop(only_4[only_4['money_per_month']>2500].index)"
   ]
  },
  {
   "cell_type": "code",
   "execution_count": 67,
   "metadata": {
    "collapsed": true
   },
   "outputs": [],
   "source": [
    "to_drop =     ((only_4['CountryLive'] == 'United States of America') & \n",
    "    (only_4['money_per_month'] >= 6000) &\n",
    "    (only_4['AttendedBootcamp'] == 0))\n",
    "\n",
    "only_4 = only_4.drop(only_4[to_drop].index)\n"
   ]
  },
  {
   "cell_type": "code",
   "execution_count": 68,
   "metadata": {
    "collapsed": true
   },
   "outputs": [],
   "source": [
    "less_than_3_months = only_4[\n",
    "    (only_4['CountryLive'] == 'United States of America') & \n",
    "    (only_4['money_per_month'] >= 6000) &\n",
    "    (only_4['MonthsProgramming'] <= 3)\n",
    "]\n",
    "\n",
    "only_4 = only_4.drop(less_than_3_months.index)"
   ]
  },
  {
   "cell_type": "code",
   "execution_count": 69,
   "metadata": {
    "collapsed": false
   },
   "outputs": [
    {
     "data": {
      "text/plain": [
       "CountryLive\n",
       "Canada                       93.065400\n",
       "India                        65.758763\n",
       "United Kingdom               45.534443\n",
       "United States of America    102.882536\n",
       "Name: money_per_month, dtype: float64"
      ]
     },
     "execution_count": 69,
     "metadata": {},
     "output_type": "execute_result"
    }
   ],
   "source": [
    "only_4.groupby(by='CountryLive').mean()['money_per_month']"
   ]
  },
  {
   "cell_type": "code",
   "execution_count": 72,
   "metadata": {
    "collapsed": false
   },
   "outputs": [
    {
     "data": {
      "text/html": [
       "<div>\n",
       "<style scoped>\n",
       "    .dataframe tbody tr th:only-of-type {\n",
       "        vertical-align: middle;\n",
       "    }\n",
       "\n",
       "    .dataframe tbody tr th {\n",
       "        vertical-align: top;\n",
       "    }\n",
       "\n",
       "    .dataframe thead th {\n",
       "        text-align: right;\n",
       "    }\n",
       "</style>\n",
       "<table border=\"1\" class=\"dataframe\">\n",
       "  <thead>\n",
       "    <tr style=\"text-align: right;\">\n",
       "      <th></th>\n",
       "      <th>Money_spendings</th>\n",
       "      <th>Population</th>\n",
       "    </tr>\n",
       "  </thead>\n",
       "  <tbody>\n",
       "    <tr>\n",
       "      <th>United States of America</th>\n",
       "      <td>102.882536</td>\n",
       "      <td>74.767081</td>\n",
       "    </tr>\n",
       "    <tr>\n",
       "      <th>Canada</th>\n",
       "      <td>93.065400</td>\n",
       "      <td>6.185300</td>\n",
       "    </tr>\n",
       "    <tr>\n",
       "      <th>India</th>\n",
       "      <td>65.758763</td>\n",
       "      <td>11.827122</td>\n",
       "    </tr>\n",
       "    <tr>\n",
       "      <th>United Kingdom</th>\n",
       "      <td>45.534443</td>\n",
       "      <td>7.220497</td>\n",
       "    </tr>\n",
       "  </tbody>\n",
       "</table>\n",
       "</div>"
      ],
      "text/plain": [
       "                          Money_spendings  Population\n",
       "United States of America       102.882536   74.767081\n",
       "Canada                          93.065400    6.185300\n",
       "India                           65.758763   11.827122\n",
       "United Kingdom                  45.534443    7.220497"
      ]
     },
     "execution_count": 72,
     "metadata": {},
     "output_type": "execute_result"
    }
   ],
   "source": [
    "pop = only_4['CountryLive'].value_counts(normalize=True)*100\n",
    "mon = only_4.groupby(by='CountryLive').mean()['money_per_month']\n",
    "\n",
    "summary = pd.DataFrame(data = {'Population':pop,'Money_spendings':mon})\n",
    "summary.sort_values('Money_spendings',ascending=False)"
   ]
  },
  {
   "cell_type": "markdown",
   "metadata": {},
   "source": [
    "## Conclusion\n",
    "\n",
    "The above dataframe is final summary.\n",
    "we should adv in \n",
    "    1. US,\n",
    "    2. Canada,\n",
    "    3. India.\n"
   ]
  },
  {
   "cell_type": "code",
   "execution_count": null,
   "metadata": {
    "collapsed": true
   },
   "outputs": [],
   "source": []
  }
 ],
 "metadata": {
  "kernelspec": {
   "display_name": "Python 3",
   "language": "python",
   "name": "python3"
  },
  "language_info": {
   "codemirror_mode": {
    "name": "ipython",
    "version": 3
   },
   "file_extension": ".py",
   "mimetype": "text/x-python",
   "name": "python",
   "nbconvert_exporter": "python",
   "pygments_lexer": "ipython3",
   "version": "3.4.3"
  }
 },
 "nbformat": 4,
 "nbformat_minor": 2
}
